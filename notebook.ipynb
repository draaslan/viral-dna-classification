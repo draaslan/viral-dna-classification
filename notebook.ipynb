{
 "cells": [
  {
   "cell_type": "markdown",
   "metadata": {},
   "source": [
    "# Human and Virus DNA Classification with TensorFlow 2"
   ]
  },
  {
   "cell_type": "markdown",
   "metadata": {},
   "source": [
    "In this notebook, we will classify human and viral DNA with Deep Learning using TensorFlow 2. At the end of this tutorial, our model will reach approximately 90% accuracy. But first, we need to talk about the research and some terminology."
   ]
  },
  {
   "cell_type": "markdown",
   "metadata": {},
   "source": [
    "## ViraMiner: Deep learning on raw DNA sequences for identifying viral genomes in human samples"
   ]
  },
  {
   "cell_type": "markdown",
   "metadata": {},
   "source": [
    "We will follow ViraMiner [paper](https://doi.org/10.1371/journal.pone.0222271) and [code](https://github.com/NeuroCSUT/ViraMiner) which is published by **Vicente R. et.al.** You can access the original article and source code. I have made some updates to the original code for educational purposes.\n",
    "\n",
    "- Updated code base from Python 2 to Python 3.\n",
    "- Added modules like pandas and removed plain Python code for I/O.\n",
    "- Used single model."
   ]
  },
  {
   "cell_type": "markdown",
   "metadata": {},
   "source": [
    "The human virome is the collection of all viruses that reside in and on the human body. Correlative evidence suggesting that viruses may be involved in the development of autoimmune diseases such as diabetes and multiple sclerosis. \n",
    "\n",
    "**Next Generation Sequencing (NGS)** technologies provide a powerful tool to obtain directly the DNA sequences present in clinical samples without any prior knowledge of the biospecimens. The term metagenomics implies complete sequencing and recovering of all non-human genetic material that might be present in a human sample.\n",
    "\n",
    "**BLAST and HMMER3** are commonly used algorithms for viral discovery in metagenomic samples. Machine Learning is also a different approach. A different approaches consist of using machine learning techniques to learn from examples to classify viral genomes. **(Vicente R. et.al.)**\n",
    "\n",
    "We will use Convolutional Neural Networks (CNN) on raw metagenomic contigs to identify potential viral sequences across different human samples in this notebook."
   ]
  },
  {
   "cell_type": "markdown",
   "metadata": {},
   "source": [
    "## Dataset\n",
    "We will use [ViraMiner](https://github.com/NeuroCSUT/ViraMiner) dataset and model in this notebook.\n",
    "\n",
    "### How this DNA data collected and cleaned?\n",
    "DNA data collected from 19 different experiments and sequenced from different human sample types (serum, skin, condylomata). These contigs were combined, shuffled, and partitioned into training (80%), validation (10%), and testing (10%) sets. \n",
    "\n",
    "The metagenomic sequences in this dataset were generated using Next Generation Sequencing platforms such as the NextSeq, Miseq, and HiSeq. Derived from human samples belonging to different patient groups.\n",
    "\n",
    "All the sequencing experiments were processed and analyzed using a benchmarked bioinformatics workflow. Analysis with quality checking where reads are filtered based on their Phred quality score. Quality checked reads that align to human, bacterial, phage and vector DNA with >95% identity. Over 75% of their length are subtracted from further analysis using BWA-MEM. The reads that are left are normalized and then assembled using the IDBA-UD, Trinity, SOAPdenovo, and SOAPdenovo- Trans assemblers. The assembled contigs are then subjected to taxonomic classification using BLAST. \n",
    "\n",
    "This dataset included 19 different NGS experiments that were analyzed and labeled by PCJ-BLAST. Labeled sequences were divided into equal pieces (300bp), each one of them was labeled as the original sequence and remaining nucleotides at the end of the contigs were removed. All contigs that contained even one “N” letter (reference to any nucleotide) were removed. **(Vicente R. et.al.)**"
   ]
  },
  {
   "cell_type": "markdown",
   "metadata": {},
   "source": [
    "### Download Dataset\n",
    "I simplified the ViraMiner dataset for this notebook. You can download simplified dataset from **dataset** folder.\n",
    "\n",
    "Dataset folder contains 3 csv files: **train.csv, validation.csv and test.csv**."
   ]
  },
  {
   "cell_type": "markdown",
   "metadata": {},
   "source": [
    "We define the full path of our dataset."
   ]
  },
  {
   "cell_type": "code",
   "execution_count": 24,
   "metadata": {},
   "outputs": [],
   "source": [
    "dataset_path = '/home/aaslan/Code/ML/viral-dna-classification/dataset/'"
   ]
  },
  {
   "cell_type": "markdown",
   "metadata": {},
   "source": [
    "We use **pandas** package to reading csv files and processing DataFrames. Pandas supplies many functions to sorting, filtering and clearing the dataset. To further information, you can look at documentation of pandas from [here](https://pandas.pydata.org/). \n",
    "\n",
    "We import **numpy** package also. *NumPy is the fundamental package for scientific computing with Python.* It provides working with N-dimensional arrays easily and fast. We will use numpy package in upcoming lines.\n",
    "\n",
    "We import pandas firstly. Then we read csv files by **read_csv** function and assign it to the **train_set** variable with pandas. We read other sets also."
   ]
  },
  {
   "cell_type": "code",
   "execution_count": 25,
   "metadata": {},
   "outputs": [],
   "source": [
    "import pandas as pd\n",
    "import numpy as np\n",
    "\n",
    "train_set = pd.read_csv(dataset_path + \"train.csv\")\n",
    "validation_set = pd.read_csv(dataset_path + \"validation.csv\")\n",
    "test_set = pd.read_csv(dataset_path + \"test.csv\")"
   ]
  },
  {
   "cell_type": "markdown",
   "metadata": {},
   "source": [
    "Let's see how our training set looks like with **head()** attribute.\n",
    "\n",
    "First column is **DNA sequences** with 300bp length, second column is a **label** of this sequence. If DNA sequence is belongs to human it is labelled as **0** and also vice versa."
   ]
  },
  {
   "cell_type": "code",
   "execution_count": 26,
   "metadata": {},
   "outputs": [
    {
     "data": {
      "text/html": [
       "<div>\n",
       "<style scoped>\n",
       "    .dataframe tbody tr th:only-of-type {\n",
       "        vertical-align: middle;\n",
       "    }\n",
       "\n",
       "    .dataframe tbody tr th {\n",
       "        vertical-align: top;\n",
       "    }\n",
       "\n",
       "    .dataframe thead th {\n",
       "        text-align: right;\n",
       "    }\n",
       "</style>\n",
       "<table border=\"1\" class=\"dataframe\">\n",
       "  <thead>\n",
       "    <tr style=\"text-align: right;\">\n",
       "      <th></th>\n",
       "      <th>1</th>\n",
       "      <th>2</th>\n",
       "    </tr>\n",
       "  </thead>\n",
       "  <tbody>\n",
       "    <tr>\n",
       "      <th>0</th>\n",
       "      <td>CAAGCCAAGATTTTCTCGCGTCACACTACTCATGACCATTGTATTA...</td>\n",
       "      <td>0</td>\n",
       "    </tr>\n",
       "    <tr>\n",
       "      <th>1</th>\n",
       "      <td>AACGAAGCACGGGCCGAGAGATTGAGGAACCAAGGTCCAGCTCTAG...</td>\n",
       "      <td>0</td>\n",
       "    </tr>\n",
       "    <tr>\n",
       "      <th>2</th>\n",
       "      <td>TAGTGGGTGAGGTTTCTATTTCCATAATGATCTCGCCTCAATTACT...</td>\n",
       "      <td>0</td>\n",
       "    </tr>\n",
       "    <tr>\n",
       "      <th>3</th>\n",
       "      <td>ATATGACCATTCTTGCAAGGTAACACAGGTACATTTTCACAAAGTG...</td>\n",
       "      <td>0</td>\n",
       "    </tr>\n",
       "    <tr>\n",
       "      <th>4</th>\n",
       "      <td>GGTCTTAAAACAACAGAAATTTTTTCCATCACAGTTGCAGAAATTA...</td>\n",
       "      <td>0</td>\n",
       "    </tr>\n",
       "  </tbody>\n",
       "</table>\n",
       "</div>"
      ],
      "text/plain": [
       "                                                   1  2\n",
       "0  CAAGCCAAGATTTTCTCGCGTCACACTACTCATGACCATTGTATTA...  0\n",
       "1  AACGAAGCACGGGCCGAGAGATTGAGGAACCAAGGTCCAGCTCTAG...  0\n",
       "2  TAGTGGGTGAGGTTTCTATTTCCATAATGATCTCGCCTCAATTACT...  0\n",
       "3  ATATGACCATTCTTGCAAGGTAACACAGGTACATTTTCACAAAGTG...  0\n",
       "4  GGTCTTAAAACAACAGAAATTTTTTCCATCACAGTTGCAGAAATTA...  0"
      ]
     },
     "execution_count": 26,
     "metadata": {},
     "output_type": "execute_result"
    }
   ],
   "source": [
    "train_set.head()"
   ]
  },
  {
   "cell_type": "markdown",
   "metadata": {},
   "source": [
    "**info()** attribute summarizes our training set. You can show that there are **211239** lines in dataset."
   ]
  },
  {
   "cell_type": "code",
   "execution_count": 27,
   "metadata": {},
   "outputs": [
    {
     "name": "stdout",
     "output_type": "stream",
     "text": [
      "<class 'pandas.core.frame.DataFrame'>\n",
      "RangeIndex: 211239 entries, 0 to 211238\n",
      "Data columns (total 2 columns):\n",
      " #   Column  Non-Null Count   Dtype \n",
      "---  ------  --------------   ----- \n",
      " 0   1       211239 non-null  object\n",
      " 1   2       211239 non-null  int64 \n",
      "dtypes: int64(1), object(1)\n",
      "memory usage: 3.2+ MB\n"
     ]
    }
   ],
   "source": [
    "train_set.info()"
   ]
  },
  {
   "cell_type": "markdown",
   "metadata": {},
   "source": [
    "## Model Configurations & Helper Functions"
   ]
  },
  {
   "cell_type": "markdown",
   "metadata": {},
   "source": [
    "These are some of the hyperparameters and configurations of our model. We will use them in our model. To configure and tune our model easily, we define them here."
   ]
  },
  {
   "cell_type": "code",
   "execution_count": 28,
   "metadata": {},
   "outputs": [],
   "source": [
    "batch_size = 4 #128\n",
    "learning_rate = 0.0001\n",
    "epochs = 10\n",
    "dropout = 0.1\n",
    "lr_decay = True\n",
    "train_steps_per_epoch = train_set.shape[0] // batch_size"
   ]
  },
  {
   "cell_type": "markdown",
   "metadata": {},
   "source": [
    "Here is our learning decay calculation and updating function. "
   ]
  },
  {
   "cell_type": "code",
   "execution_count": 29,
   "metadata": {},
   "outputs": [],
   "source": [
    "def lr_decay_per_epoch(epoch):\n",
    "    initial_lrate = learning_rate\n",
    "    drop = 0.5\n",
    "    epochs_drop = 5.0\n",
    "    lrate = initial_lrate * np.power(drop,int((1+epoch)/epochs_drop))\n",
    "    lrate = np.max([initial_lrate/100,lrate])\n",
    "    return lrate"
   ]
  },
  {
   "cell_type": "markdown",
   "metadata": {},
   "source": [
    "This is our helper function to convert DNA sequence to one hot encoding. Takes dataset as an input and return one encoded sequences and labels."
   ]
  },
  {
   "cell_type": "code",
   "execution_count": 30,
   "metadata": {},
   "outputs": [],
   "source": [
    "def DNA_to_onehot(dataset):\n",
    "    options_onehot = {'A': [1,0,0,0,0],'C' :[0,1,0,0,0], 'G':[0,0,1,0,0] ,'T':[0,0,0,1,0],'N':[0,0,0,0,1]}\n",
    "    sequences = []\n",
    "    labels = []\n",
    "    for index, row in dataset.iterrows():\n",
    "        sequences.append(list(map(lambda e: options_onehot[e], row[0])))\n",
    "        labels.append(row[1])\n",
    "    sequences = sequences\n",
    "    return np.array(sequences), np.array(labels)"
   ]
  },
  {
   "cell_type": "markdown",
   "metadata": {},
   "source": [
    "This function will generate our training batches according to our configurations which we defined above. This generator will feed our neural network step by step because our training set is too big to store whole dataset in the memory."
   ]
  },
  {
   "cell_type": "code",
   "execution_count": 31,
   "metadata": {},
   "outputs": [],
   "source": [
    "def generate_batches(dataset, batch_size):\n",
    "    train_steps_per_epoch = dataset.shape[0] // batch_size\n",
    "\n",
    "    while 1:\n",
    "        for i in range(0, train_steps_per_epoch):\n",
    "\n",
    "            seqs, labels = DNA_to_onehot(dataset.iloc[i*batch_size:(i+1)*batch_size,:])\n",
    "\n",
    "            yield seqs, labels"
   ]
  },
  {
   "cell_type": "markdown",
   "metadata": {},
   "source": [
    "Validation set is smaller than training set. So, we can store whole validation set in one time. We can use generators in validation set like training set, but we don't need that.\n",
    "\n",
    "We store validation sequences and labels in different variables: **val_seqs** and **val_labels**. We use DNA_to_onehot function which we defined above."
   ]
  },
  {
   "cell_type": "code",
   "execution_count": 32,
   "metadata": {},
   "outputs": [],
   "source": [
    "val_seqs, val_labels = DNA_to_onehot(validation_set)"
   ]
  },
  {
   "cell_type": "markdown",
   "metadata": {},
   "source": [
    "## Model"
   ]
  },
  {
   "cell_type": "markdown",
   "metadata": {},
   "source": [
    "Importing necessary modules from Keras."
   ]
  },
  {
   "cell_type": "code",
   "execution_count": 33,
   "metadata": {},
   "outputs": [],
   "source": [
    "import tensorflow as tf\n",
    "from tensorflow.keras.models import Model\n",
    "from tensorflow.keras.layers import Input, Dense, Conv1D, concatenate, Dropout\n",
    "from tensorflow.keras.layers import GlobalMaxPooling1D,GlobalAveragePooling1D\n",
    "from tensorflow.keras.callbacks import ModelCheckpoint, Callback, LearningRateScheduler, EarlyStopping\n",
    "from tensorflow.keras.optimizers import Adam, Nadam, SGD\n",
    "\n",
    "config = tf.compat.v1.ConfigProto()\n",
    "config.gpu_options.allow_growth = True\n",
    "session = tf.compat.v1.InteractiveSession(config=config)"
   ]
  },
  {
   "cell_type": "markdown",
   "metadata": {},
   "source": [
    "### Model Structure"
   ]
  },
  {
   "cell_type": "markdown",
   "metadata": {},
   "source": [
    "This is the most important part. In this lines we create our model's layers, activations and optimizers. We are using ViraMiner model as a base model also. Let's visualize how our model looks like."
   ]
  },
  {
   "cell_type": "markdown",
   "metadata": {},
   "source": [
    "![ViraMiner Model Structure](https://pymed.ai/images/uploads/viraminer-model.png)"
   ]
  },
  {
   "cell_type": "markdown",
   "metadata": {},
   "source": [
    "This model contains **two convolutional branches** that contribute different types of information to the final fully-connected decision-making layer. \n",
    "A convolutional layer followed by average operator provides important information about the frequency of patterns. In such a case, while losing information about the maximal activation (best match), we gain information about frequency—the average cannot be high if only a few good matches were found.\n",
    "We combine feature maps processed by averaging and by max operators. This allows the model to base its decisions on both pattern-matching and pattern-frequency information. **(Vicente R. et.al.)**\n",
    "\n",
    "In original ViraMiner article, authors trained frequency and pattern branches separately. But here we train them once because of educational purposes. "
   ]
  },
  {
   "cell_type": "markdown",
   "metadata": {},
   "source": [
    "Input layer shape is 300x5. 300 is length of sequence and 5 is one hot encoded form of **ACTGN** nucleotides."
   ]
  },
  {
   "cell_type": "code",
   "execution_count": 34,
   "metadata": {},
   "outputs": [],
   "source": [
    "inputs = Input(shape=(300,5))"
   ]
  },
  {
   "cell_type": "markdown",
   "metadata": {},
   "source": [
    "This is a frequency layer."
   ]
  },
  {
   "cell_type": "code",
   "execution_count": 35,
   "metadata": {},
   "outputs": [],
   "source": [
    "first_freq = Conv1D(1000,8, activation=\"relu\")(inputs)\n",
    "freq_pooling = GlobalAveragePooling1D()(first_freq)\n",
    "drop_freq = Dropout(dropout)(freq_pooling)\n",
    "fc_layer1 = Dense(1000, activation=\"relu\", name=\"fc_layer1\")(drop_freq)"
   ]
  },
  {
   "cell_type": "markdown",
   "metadata": {},
   "source": [
    "This is a pattern layer."
   ]
  },
  {
   "cell_type": "code",
   "execution_count": 36,
   "metadata": {},
   "outputs": [],
   "source": [
    "first_pattern = Conv1D(1200,11, activation=\"relu\")(inputs)\n",
    "pattern_pooling = GlobalMaxPooling1D()(first_pattern)\n",
    "drop_pattern = Dropout(dropout)(pattern_pooling)\n",
    "fc_layer2 = Dense(1200, activation=\"relu\", name=\"fc_layer2\")(drop_pattern)"
   ]
  },
  {
   "cell_type": "markdown",
   "metadata": {},
   "source": [
    "Concatenation of frequency and pattern layers."
   ]
  },
  {
   "cell_type": "code",
   "execution_count": 37,
   "metadata": {},
   "outputs": [],
   "source": [
    "concatenation = concatenate([fc_layer1, fc_layer2])"
   ]
  },
  {
   "cell_type": "markdown",
   "metadata": {},
   "source": [
    "Dropout applied to concatenation layer."
   ]
  },
  {
   "cell_type": "code",
   "execution_count": 38,
   "metadata": {},
   "outputs": [],
   "source": [
    "drop_fc = Dropout(dropout, name=\"drop_fc1\")(concatenation)"
   ]
  },
  {
   "cell_type": "markdown",
   "metadata": {},
   "source": [
    "Final dense layer."
   ]
  },
  {
   "cell_type": "code",
   "execution_count": 39,
   "metadata": {},
   "outputs": [],
   "source": [
    "final = Dense(1, activation=\"sigmoid\")(drop_fc)"
   ]
  },
  {
   "cell_type": "markdown",
   "metadata": {},
   "source": [
    "We define our model variable input to output and compile it. We use adam optimizer and binary crossentropy as a loss function. After that, we summarize model structure."
   ]
  },
  {
   "cell_type": "code",
   "execution_count": 40,
   "metadata": {},
   "outputs": [
    {
     "name": "stdout",
     "output_type": "stream",
     "text": [
      "Model: \"model\"\n",
      "__________________________________________________________________________________________________\n",
      "Layer (type)                    Output Shape         Param #     Connected to                     \n",
      "==================================================================================================\n",
      "input_1 (InputLayer)            [(None, 300, 5)]     0                                            \n",
      "__________________________________________________________________________________________________\n",
      "conv1d (Conv1D)                 (None, 293, 1000)    41000       input_1[0][0]                    \n",
      "__________________________________________________________________________________________________\n",
      "conv1d_1 (Conv1D)               (None, 290, 1200)    67200       input_1[0][0]                    \n",
      "__________________________________________________________________________________________________\n",
      "global_average_pooling1d (Globa (None, 1000)         0           conv1d[0][0]                     \n",
      "__________________________________________________________________________________________________\n",
      "global_max_pooling1d (GlobalMax (None, 1200)         0           conv1d_1[0][0]                   \n",
      "__________________________________________________________________________________________________\n",
      "dropout (Dropout)               (None, 1000)         0           global_average_pooling1d[0][0]   \n",
      "__________________________________________________________________________________________________\n",
      "dropout_1 (Dropout)             (None, 1200)         0           global_max_pooling1d[0][0]       \n",
      "__________________________________________________________________________________________________\n",
      "fc_layer1 (Dense)               (None, 1000)         1001000     dropout[0][0]                    \n",
      "__________________________________________________________________________________________________\n",
      "fc_layer2 (Dense)               (None, 1200)         1441200     dropout_1[0][0]                  \n",
      "__________________________________________________________________________________________________\n",
      "concatenate (Concatenate)       (None, 2200)         0           fc_layer1[0][0]                  \n",
      "                                                                 fc_layer2[0][0]                  \n",
      "__________________________________________________________________________________________________\n",
      "drop_fc1 (Dropout)              (None, 2200)         0           concatenate[0][0]                \n",
      "__________________________________________________________________________________________________\n",
      "dense (Dense)                   (None, 1)            2201        drop_fc1[0][0]                   \n",
      "==================================================================================================\n",
      "Total params: 2,552,601\n",
      "Trainable params: 2,552,601\n",
      "Non-trainable params: 0\n",
      "__________________________________________________________________________________________________\n"
     ]
    }
   ],
   "source": [
    "model = Model(inputs, final)\n",
    "model.compile(optimizer = Adam(lr=learning_rate), loss='binary_crossentropy', metrics=['accuracy'])\n",
    "model.summary()"
   ]
  },
  {
   "cell_type": "markdown",
   "metadata": {},
   "source": [
    "## Training"
   ]
  },
  {
   "cell_type": "markdown",
   "metadata": {},
   "source": [
    "We will save only best model with **ModelCheckpoint** callback. It will save model only which has minimum validation loss value. Also **EarlyStopping** will be activated if validation loss does not decrease 5 times in a row. Lastly, we appended **LearningRateScheduler** to decrease learning rate after some epochs."
   ]
  },
  {
   "cell_type": "code",
   "execution_count": 41,
   "metadata": {},
   "outputs": [],
   "source": [
    "callbacks=[]\n",
    "callbacks.append(ModelCheckpoint(filepath=\"best.h5\", verbose=1, save_best_only=True, monitor='val_loss'))\n",
    "callbacks.append(EarlyStopping(monitor='val_loss', mode='min', verbose=1, patience=5))\n",
    "\n",
    "if lr_decay == True:\n",
    "    callbacks.append(LearningRateScheduler(lr_decay_per_epoch))"
   ]
  },
  {
   "cell_type": "markdown",
   "metadata": {},
   "source": [
    "It is time to fit our model!"
   ]
  },
  {
   "cell_type": "code",
   "execution_count": 42,
   "metadata": {},
   "outputs": [
    {
     "name": "stdout",
     "output_type": "stream",
     "text": [
      "WARNING:tensorflow:Using a generator with `use_multiprocessing=True` and multiple workers may duplicate your data. Please consider using the `tf.data.Dataset`.\n",
      "Epoch 1/10\n",
      "WARNING:tensorflow:multiprocessing can interact badly with TensorFlow, causing nondeterministic deadlocks. For high performance data pipelines tf.data is recommended.\n",
      "52804/52809 [============================>.] - ETA: 0s - loss: 0.0941 - accuracy: 0.9788\n",
      "Epoch 00001: val_loss improved from inf to 0.08238, saving model to best.h5\n",
      "52809/52809 [==============================] - 150s 3ms/step - loss: 0.0941 - accuracy: 0.9788 - val_loss: 0.0824 - val_accuracy: 0.9798 - lr: 1.0000e-04\n",
      "Epoch 2/10\n",
      "52804/52809 [============================>.] - ETA: 0s - loss: 0.0833 - accuracy: 0.9789\n",
      "Epoch 00002: val_loss improved from 0.08238 to 0.07816, saving model to best.h5\n",
      "52809/52809 [==============================] - 148s 3ms/step - loss: 0.0833 - accuracy: 0.9789 - val_loss: 0.0782 - val_accuracy: 0.9798 - lr: 1.0000e-04\n",
      "Epoch 3/10\n",
      "52790/52809 [============================>.] - ETA: 0s - loss: 0.0787 - accuracy: 0.9790\n",
      "Epoch 00003: val_loss improved from 0.07816 to 0.07646, saving model to best.h5\n",
      "52809/52809 [==============================] - 145s 3ms/step - loss: 0.0787 - accuracy: 0.9790 - val_loss: 0.0765 - val_accuracy: 0.9800 - lr: 1.0000e-04\n",
      "Epoch 4/10\n",
      "52795/52809 [============================>.] - ETA: 0s - loss: 0.0755 - accuracy: 0.9795\n",
      "Epoch 00004: val_loss improved from 0.07646 to 0.07526, saving model to best.h5\n",
      "52809/52809 [==============================] - 145s 3ms/step - loss: 0.0755 - accuracy: 0.9795 - val_loss: 0.0753 - val_accuracy: 0.9809 - lr: 1.0000e-04\n",
      "Epoch 5/10\n",
      "52792/52809 [============================>.] - ETA: 0s - loss: 0.0712 - accuracy: 0.9802\n",
      "Epoch 00005: val_loss did not improve from 0.07526\n",
      "52809/52809 [==============================] - 145s 3ms/step - loss: 0.0712 - accuracy: 0.9802 - val_loss: 0.0753 - val_accuracy: 0.9814 - lr: 5.0000e-05\n",
      "Epoch 6/10\n",
      "52806/52809 [============================>.] - ETA: 0s - loss: 0.0701 - accuracy: 0.9806\n",
      "Epoch 00006: val_loss improved from 0.07526 to 0.07447, saving model to best.h5\n",
      "52809/52809 [==============================] - 144s 3ms/step - loss: 0.0701 - accuracy: 0.9806 - val_loss: 0.0745 - val_accuracy: 0.9815 - lr: 5.0000e-05\n",
      "Epoch 7/10\n",
      "52802/52809 [============================>.] - ETA: 0s - loss: 0.0694 - accuracy: 0.9808\n",
      "Epoch 00007: val_loss improved from 0.07447 to 0.07442, saving model to best.h5\n",
      "52809/52809 [==============================] - 145s 3ms/step - loss: 0.0694 - accuracy: 0.9808 - val_loss: 0.0744 - val_accuracy: 0.9815 - lr: 5.0000e-05\n",
      "Epoch 8/10\n",
      "52793/52809 [============================>.] - ETA: 0s - loss: 0.0689 - accuracy: 0.9808\n",
      "Epoch 00008: val_loss improved from 0.07442 to 0.07386, saving model to best.h5\n",
      "52809/52809 [==============================] - 145s 3ms/step - loss: 0.0688 - accuracy: 0.9808 - val_loss: 0.0739 - val_accuracy: 0.9815 - lr: 5.0000e-05\n",
      "Epoch 9/10\n",
      "52792/52809 [============================>.] - ETA: 0s - loss: 0.0686 - accuracy: 0.9810\n",
      "Epoch 00009: val_loss did not improve from 0.07386\n",
      "52809/52809 [==============================] - 145s 3ms/step - loss: 0.0686 - accuracy: 0.9810 - val_loss: 0.0744 - val_accuracy: 0.9819 - lr: 5.0000e-05\n",
      "Epoch 10/10\n",
      "52796/52809 [============================>.] - ETA: 0s - loss: 0.0663 - accuracy: 0.9814\n",
      "Epoch 00010: val_loss did not improve from 0.07386\n",
      "52809/52809 [==============================] - 144s 3ms/step - loss: 0.0663 - accuracy: 0.9814 - val_loss: 0.0741 - val_accuracy: 0.9821 - lr: 2.5000e-05\n"
     ]
    },
    {
     "data": {
      "text/plain": [
       "<tensorflow.python.keras.callbacks.History at 0x7efcdc796be0>"
      ]
     },
     "execution_count": 42,
     "metadata": {},
     "output_type": "execute_result"
    }
   ],
   "source": [
    "model.fit(generate_batches(train_set, batch_size),\n",
    "        steps_per_epoch = train_steps_per_epoch, \n",
    "        epochs = epochs, workers = 1, \n",
    "        use_multiprocessing = True, verbose = 1,  callbacks = callbacks,\n",
    "        validation_data=(np.array(val_seqs), val_labels))"
   ]
  },
  {
   "cell_type": "markdown",
   "metadata": {},
   "source": [
    "## Evaluation"
   ]
  },
  {
   "cell_type": "markdown",
   "metadata": {},
   "source": [
    "Importing evaluation and ploting modules."
   ]
  },
  {
   "cell_type": "code",
   "execution_count": 44,
   "metadata": {},
   "outputs": [],
   "source": [
    "from tensorflow.keras.models import load_model\n",
    "from sklearn.metrics import confusion_matrix, roc_auc_score, roc_curve\n",
    "import matplotlib.pyplot as plt"
   ]
  },
  {
   "cell_type": "markdown",
   "metadata": {},
   "source": [
    "We convert test sequences to one hot encodings as we did before."
   ]
  },
  {
   "cell_type": "code",
   "execution_count": 45,
   "metadata": {},
   "outputs": [],
   "source": [
    "test_seqs, test_labels = DNA_to_onehot(test_set)\n",
    "test_steps_per_epoch = test_set.shape[0] // batch_size"
   ]
  },
  {
   "cell_type": "markdown",
   "metadata": {},
   "source": [
    "Load best model from file which we saved before."
   ]
  },
  {
   "cell_type": "code",
   "execution_count": 46,
   "metadata": {},
   "outputs": [],
   "source": [
    "model = load_model(\"best.h5\")"
   ]
  },
  {
   "cell_type": "markdown",
   "metadata": {},
   "source": [
    "Prediction of test set with our model. Last line calculates auroc score. "
   ]
  },
  {
   "cell_type": "code",
   "execution_count": 47,
   "metadata": {},
   "outputs": [
    {
     "name": "stdout",
     "output_type": "stream",
     "text": [
      "WARNING:tensorflow:From <ipython-input-47-d3ac69fce067>:1: Model.predict_generator (from tensorflow.python.keras.engine.training) is deprecated and will be removed in a future version.\n",
      "Instructions for updating:\n",
      "Please use Model.predict, which supports generators.\n"
     ]
    },
    {
     "data": {
      "text/plain": [
       "0.8925676038994342"
      ]
     },
     "execution_count": 47,
     "metadata": {},
     "output_type": "execute_result"
    }
   ],
   "source": [
    "pred_probas = model.predict_generator(generate_batches(test_set, batch_size), \n",
    "                                      steps=test_steps_per_epoch + 1)\n",
    "pred_probas = pred_probas[:len(test_labels),:]\n",
    "roc_auc_score(test_labels, pred_probas)"
   ]
  },
  {
   "cell_type": "markdown",
   "metadata": {},
   "source": [
    "Calculating false-postive and true-positive values for ROC curve."
   ]
  },
  {
   "cell_type": "code",
   "execution_count": 48,
   "metadata": {},
   "outputs": [],
   "source": [
    "fpr, tpr, thresholds = roc_curve(test_labels, pred_probas)"
   ]
  },
  {
   "cell_type": "markdown",
   "metadata": {},
   "source": [
    "Ploting the ROC curve."
   ]
  },
  {
   "cell_type": "code",
   "execution_count": 49,
   "metadata": {},
   "outputs": [
    {
     "data": {
      "image/png": "[encoded data removed]",
      "text/plain": [
       "<Figure size 432x288 with 1 Axes>"
      ]
     },
     "metadata": {
      "needs_background": "light"
     },
     "output_type": "display_data"
    }
   ],
   "source": [
    "def plot_roc_curve(fpr,tpr): \n",
    "    plt.plot(fpr, tpr) \n",
    "    plt.xlabel('False Positive Rate') \n",
    "    plt.ylabel('True Positive Rate') \n",
    "    plt.show()\n",
    "    \n",
    "plot_roc_curve(fpr, tpr)"
   ]
  },
  {
   "cell_type": "markdown",
   "metadata": {},
   "source": [
    "With this tutorial's default configurations, we get loss: 0.0520, acccuracy: 0.9847, validation loss: 0.0701, validation accuracy: 0.9826. Our ROC AUC score is approximately 0.897. It is little bit less than original article which is 0.923.\n",
    "\n",
    "These values can be changed train by train, but does not deviate much."
   ]
  },
  {
   "cell_type": "markdown",
   "metadata": {},
   "source": [
    "## Conclusion"
   ]
  },
  {
   "cell_type": "markdown",
   "metadata": {},
   "source": [
    "We classified DNA data in this tutorial. We used ViraMiner dataset and base model to achieve this. Our dataset consists of 300bp in length sequences. These sequences gathered from different sources. In final evaluation, our model achieved 0.897 on ROC AUC score. \n",
    "\n",
    "If you want to get better results on this model you can read original ViraMiner [paper](https://doi.org/10.1371/journal.pone.0222271). Different approaches and hyperparameter available in this paper."
   ]
  }
 ],
 "metadata": {
  "kernelspec": {
   "display_name": "Python 3",
   "language": "python",
   "name": "python3"
  },
  "language_info": {
   "codemirror_mode": {
    "name": "ipython",
    "version": 3
   },
   "file_extension": ".py",
   "mimetype": "text/x-python",
   "name": "python",
   "nbconvert_exporter": "python",
   "pygments_lexer": "ipython3",
   "version": "3.8.3"
  }
 },
 "nbformat": 4,
 "nbformat_minor": 4
}
